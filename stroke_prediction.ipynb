{
  "nbformat": 4,
  "nbformat_minor": 0,
  "metadata": {
    "colab": {
      "provenance": []
    },
    "kernelspec": {
      "name": "python3",
      "display_name": "Python 3"
    },
    "language_info": {
      "name": "python"
    }
  },
  "cells": [
    {
      "cell_type": "markdown",
      "source": [
        "# Aplikacja internetowa do przewidywania czy pacjent może doznać udaru\n",
        "\n",
        "### Opis\n",
        "\n",
        "Według Światowej Organizacji Zdrowia (WHO) udar jest drugą najczęstszą przyczyną śmierci na świecie i odpowiada za około 11% wszystkich zgonów.\n",
        "\n",
        "Ta aplikacja służy do przewidywania, czy pacjent może doznać udaru na podstawie parametrów wejściowych, takich jak płeć, wiek, wybrane choroby i palenie tytoniu.\n",
        "\n",
        "### Cel\n",
        "\n",
        "Celem projektu było zidentyfikowanie czynników ryzyka wpływających na ryzyko udaru.\n",
        "\n",
        "### Wyniki\n",
        "\n",
        "Zaobserwowano, że istotny wpływ na ryzyko udaru mają choroby takie jak nadciśnienie lub choroby serca. Ponad to zauważalnie większe ryzyko udaru występuje wśród osób samozatrudnionych.\n",
        "\n",
        "### Dane\n",
        "Dane pochodzą ze datasetu [Stroke Prediction Dataset](https://www.kaggle.com/datasets/fedesoriano/stroke-prediction-dataset)\n",
        "\n",
        "\n",
        "\n"
      ],
      "metadata": {
        "id": "4cxNTpx0rldo"
      }
    },
    {
      "cell_type": "markdown",
      "source": [
        "## Import potrzebnych bibliotek"
      ],
      "metadata": {
        "id": "SKVfjA2dvEsr"
      }
    },
    {
      "cell_type": "code",
      "execution_count": 9,
      "metadata": {
        "id": "bLM9X4dpj7AS"
      },
      "outputs": [],
      "source": [
        "import pandas as pd\n",
        "import numpy as np\n",
        "from sklearn.ensemble import RandomForestRegressor\n",
        "from sklearn.model_selection import train_test_split\n",
        "from sklearn.preprocessing import OneHotEncoder\n",
        "from sklearn.compose import ColumnTransformer\n",
        "from sklearn.exceptions import NotFittedError"
      ]
    },
    {
      "cell_type": "markdown",
      "source": [
        "## Wczytanie danych\n",
        "\n"
      ],
      "metadata": {
        "id": "GfaQS6DnvLBz"
      }
    },
    {
      "cell_type": "code",
      "source": [
        "from google.colab import drive\n",
        "drive.mount('/content/drive')\n",
        "file_path = '/content/drive/MyDrive/stroke/healthcare-dataset-stroke-data.csv'\n",
        "data = pd.read_csv(file_path)"
      ],
      "metadata": {
        "id": "9DOVBVWEtRUW",
        "colab": {
          "base_uri": "https://localhost:8080/"
        },
        "outputId": "918bbda8-9ebf-4f7c-b3f3-f5c000b7db96"
      },
      "execution_count": 10,
      "outputs": [
        {
          "output_type": "stream",
          "name": "stdout",
          "text": [
            "Drive already mounted at /content/drive; to attempt to forcibly remount, call drive.mount(\"/content/drive\", force_remount=True).\n"
          ]
        }
      ]
    },
    {
      "cell_type": "markdown",
      "source": [
        "## Przygotowanie danych"
      ],
      "metadata": {
        "id": "P8Dd7Evxv2vL"
      }
    },
    {
      "cell_type": "code",
      "source": [
        "data = data.drop('id', axis=1).drop('avg_glucose_level', axis=1)\n",
        "data = data.dropna()\n",
        "X = data.drop('stroke', axis=1)\n",
        "y = data['stroke']\n",
        "\n",
        "categorical_features = ['gender', 'hypertension', 'heart_disease', 'ever_married', 'work_type', 'Residence_type', 'smoking_status']\n",
        "transformer = ColumnTransformer([('encoder', OneHotEncoder(), categorical_features)], remainder='passthrough')\n",
        "X = transformer.fit_transform(X)\n",
        "\n",
        "X_train, X_test, y_train, y_test = train_test_split(X, y, test_size=0.2, random_state=42)"
      ],
      "metadata": {
        "id": "smRDEcn3v7GJ"
      },
      "execution_count": 11,
      "outputs": []
    },
    {
      "cell_type": "markdown",
      "source": [
        "## Eksploracyjna Analiza Danych"
      ],
      "metadata": {
        "id": "1fv7Gevj8gXh"
      }
    },
    {
      "cell_type": "code",
      "source": [
        "print(\"Shape\")\n",
        "print(data.shape)\n",
        "print(\"First 10\")\n",
        "print(data.head(10))\n",
        "print(\"Types\")\n",
        "print(data.dtypes)\n",
        "print(\"Description\")\n",
        "print(data.describe())\n",
        "print(\"Nulls\")\n",
        "print(data.isnull().sum())"
      ],
      "metadata": {
        "colab": {
          "base_uri": "https://localhost:8080/"
        },
        "id": "rx4_HbbA8gPC",
        "outputId": "448ed580-0fbd-43de-846b-763e897e67c4"
      },
      "execution_count": 12,
      "outputs": [
        {
          "output_type": "stream",
          "name": "stdout",
          "text": [
            "Shape\n",
            "(4909, 10)\n",
            "First 10\n",
            "    gender   age  hypertension  heart_disease ever_married      work_type  \\\n",
            "0     Male  67.0             0              1          Yes        Private   \n",
            "2     Male  80.0             0              1          Yes        Private   \n",
            "3   Female  49.0             0              0          Yes        Private   \n",
            "4   Female  79.0             1              0          Yes  Self-employed   \n",
            "5     Male  81.0             0              0          Yes        Private   \n",
            "6     Male  74.0             1              1          Yes        Private   \n",
            "7   Female  69.0             0              0           No        Private   \n",
            "9   Female  78.0             0              0          Yes        Private   \n",
            "10  Female  81.0             1              0          Yes        Private   \n",
            "11  Female  61.0             0              1          Yes       Govt_job   \n",
            "\n",
            "   Residence_type   bmi   smoking_status  stroke  \n",
            "0           Urban  36.6  formerly smoked       1  \n",
            "2           Rural  32.5     never smoked       1  \n",
            "3           Urban  34.4           smokes       1  \n",
            "4           Rural  24.0     never smoked       1  \n",
            "5           Urban  29.0  formerly smoked       1  \n",
            "6           Rural  27.4     never smoked       1  \n",
            "7           Urban  22.8     never smoked       1  \n",
            "9           Urban  24.2          Unknown       1  \n",
            "10          Rural  29.7     never smoked       1  \n",
            "11          Rural  36.8           smokes       1  \n",
            "Types\n",
            "gender             object\n",
            "age               float64\n",
            "hypertension        int64\n",
            "heart_disease       int64\n",
            "ever_married       object\n",
            "work_type          object\n",
            "Residence_type     object\n",
            "bmi               float64\n",
            "smoking_status     object\n",
            "stroke              int64\n",
            "dtype: object\n",
            "Description\n",
            "               age  hypertension  heart_disease          bmi       stroke\n",
            "count  4909.000000   4909.000000    4909.000000  4909.000000  4909.000000\n",
            "mean     42.865374      0.091872       0.049501    28.893237     0.042575\n",
            "std      22.555115      0.288875       0.216934     7.854067     0.201917\n",
            "min       0.080000      0.000000       0.000000    10.300000     0.000000\n",
            "25%      25.000000      0.000000       0.000000    23.500000     0.000000\n",
            "50%      44.000000      0.000000       0.000000    28.100000     0.000000\n",
            "75%      60.000000      0.000000       0.000000    33.100000     0.000000\n",
            "max      82.000000      1.000000       1.000000    97.600000     1.000000\n",
            "Nulls\n",
            "gender            0\n",
            "age               0\n",
            "hypertension      0\n",
            "heart_disease     0\n",
            "ever_married      0\n",
            "work_type         0\n",
            "Residence_type    0\n",
            "bmi               0\n",
            "smoking_status    0\n",
            "stroke            0\n",
            "dtype: int64\n"
          ]
        }
      ]
    },
    {
      "cell_type": "markdown",
      "source": [
        "## Trenowanie modelu"
      ],
      "metadata": {
        "id": "QbCcpArUBUtu"
      }
    },
    {
      "cell_type": "code",
      "source": [
        "model = RandomForestRegressor()\n",
        "model.fit(X_train, y_train)"
      ],
      "metadata": {
        "id": "hmFR4wAIwTok",
        "colab": {
          "base_uri": "https://localhost:8080/",
          "height": 75
        },
        "outputId": "24652aa7-c753-4348-fb8a-d8908f0ddc62"
      },
      "execution_count": 13,
      "outputs": [
        {
          "output_type": "execute_result",
          "data": {
            "text/plain": [
              "RandomForestRegressor()"
            ],
            "text/html": [
              "<style>#sk-container-id-2 {color: black;background-color: white;}#sk-container-id-2 pre{padding: 0;}#sk-container-id-2 div.sk-toggleable {background-color: white;}#sk-container-id-2 label.sk-toggleable__label {cursor: pointer;display: block;width: 100%;margin-bottom: 0;padding: 0.3em;box-sizing: border-box;text-align: center;}#sk-container-id-2 label.sk-toggleable__label-arrow:before {content: \"▸\";float: left;margin-right: 0.25em;color: #696969;}#sk-container-id-2 label.sk-toggleable__label-arrow:hover:before {color: black;}#sk-container-id-2 div.sk-estimator:hover label.sk-toggleable__label-arrow:before {color: black;}#sk-container-id-2 div.sk-toggleable__content {max-height: 0;max-width: 0;overflow: hidden;text-align: left;background-color: #f0f8ff;}#sk-container-id-2 div.sk-toggleable__content pre {margin: 0.2em;color: black;border-radius: 0.25em;background-color: #f0f8ff;}#sk-container-id-2 input.sk-toggleable__control:checked~div.sk-toggleable__content {max-height: 200px;max-width: 100%;overflow: auto;}#sk-container-id-2 input.sk-toggleable__control:checked~label.sk-toggleable__label-arrow:before {content: \"▾\";}#sk-container-id-2 div.sk-estimator input.sk-toggleable__control:checked~label.sk-toggleable__label {background-color: #d4ebff;}#sk-container-id-2 div.sk-label input.sk-toggleable__control:checked~label.sk-toggleable__label {background-color: #d4ebff;}#sk-container-id-2 input.sk-hidden--visually {border: 0;clip: rect(1px 1px 1px 1px);clip: rect(1px, 1px, 1px, 1px);height: 1px;margin: -1px;overflow: hidden;padding: 0;position: absolute;width: 1px;}#sk-container-id-2 div.sk-estimator {font-family: monospace;background-color: #f0f8ff;border: 1px dotted black;border-radius: 0.25em;box-sizing: border-box;margin-bottom: 0.5em;}#sk-container-id-2 div.sk-estimator:hover {background-color: #d4ebff;}#sk-container-id-2 div.sk-parallel-item::after {content: \"\";width: 100%;border-bottom: 1px solid gray;flex-grow: 1;}#sk-container-id-2 div.sk-label:hover label.sk-toggleable__label {background-color: #d4ebff;}#sk-container-id-2 div.sk-serial::before {content: \"\";position: absolute;border-left: 1px solid gray;box-sizing: border-box;top: 0;bottom: 0;left: 50%;z-index: 0;}#sk-container-id-2 div.sk-serial {display: flex;flex-direction: column;align-items: center;background-color: white;padding-right: 0.2em;padding-left: 0.2em;position: relative;}#sk-container-id-2 div.sk-item {position: relative;z-index: 1;}#sk-container-id-2 div.sk-parallel {display: flex;align-items: stretch;justify-content: center;background-color: white;position: relative;}#sk-container-id-2 div.sk-item::before, #sk-container-id-2 div.sk-parallel-item::before {content: \"\";position: absolute;border-left: 1px solid gray;box-sizing: border-box;top: 0;bottom: 0;left: 50%;z-index: -1;}#sk-container-id-2 div.sk-parallel-item {display: flex;flex-direction: column;z-index: 1;position: relative;background-color: white;}#sk-container-id-2 div.sk-parallel-item:first-child::after {align-self: flex-end;width: 50%;}#sk-container-id-2 div.sk-parallel-item:last-child::after {align-self: flex-start;width: 50%;}#sk-container-id-2 div.sk-parallel-item:only-child::after {width: 0;}#sk-container-id-2 div.sk-dashed-wrapped {border: 1px dashed gray;margin: 0 0.4em 0.5em 0.4em;box-sizing: border-box;padding-bottom: 0.4em;background-color: white;}#sk-container-id-2 div.sk-label label {font-family: monospace;font-weight: bold;display: inline-block;line-height: 1.2em;}#sk-container-id-2 div.sk-label-container {text-align: center;}#sk-container-id-2 div.sk-container {/* jupyter's `normalize.less` sets `[hidden] { display: none; }` but bootstrap.min.css set `[hidden] { display: none !important; }` so we also need the `!important` here to be able to override the default hidden behavior on the sphinx rendered scikit-learn.org. See: https://github.com/scikit-learn/scikit-learn/issues/21755 */display: inline-block !important;position: relative;}#sk-container-id-2 div.sk-text-repr-fallback {display: none;}</style><div id=\"sk-container-id-2\" class=\"sk-top-container\"><div class=\"sk-text-repr-fallback\"><pre>RandomForestRegressor()</pre><b>In a Jupyter environment, please rerun this cell to show the HTML representation or trust the notebook. <br />On GitHub, the HTML representation is unable to render, please try loading this page with nbviewer.org.</b></div><div class=\"sk-container\" hidden><div class=\"sk-item\"><div class=\"sk-estimator sk-toggleable\"><input class=\"sk-toggleable__control sk-hidden--visually\" id=\"sk-estimator-id-2\" type=\"checkbox\" checked><label for=\"sk-estimator-id-2\" class=\"sk-toggleable__label sk-toggleable__label-arrow\">RandomForestRegressor</label><div class=\"sk-toggleable__content\"><pre>RandomForestRegressor()</pre></div></div></div></div></div>"
            ]
          },
          "metadata": {},
          "execution_count": 13
        }
      ]
    },
    {
      "cell_type": "markdown",
      "source": [
        "## Korelacja danych"
      ],
      "metadata": {
        "id": "cB1m3LNtwd03"
      }
    },
    {
      "cell_type": "code",
      "source": [
        "numeric_data = data.select_dtypes(include=['float64', 'int64'])\n",
        "correlation_matrix = numeric_data.corr()\n",
        "print(correlation_matrix)"
      ],
      "metadata": {
        "colab": {
          "base_uri": "https://localhost:8080/"
        },
        "id": "1GnqHeHLtmE0",
        "outputId": "7de5de9f-cdc0-4958-ac3d-53a238328c3f"
      },
      "execution_count": 14,
      "outputs": [
        {
          "output_type": "stream",
          "name": "stdout",
          "text": [
            "                    age  hypertension  heart_disease       bmi    stroke\n",
            "age            1.000000      0.274425       0.257123  0.333398  0.232331\n",
            "hypertension   0.274425      1.000000       0.115991  0.167811  0.142515\n",
            "heart_disease  0.257123      0.115991       1.000000  0.041357  0.137938\n",
            "bmi            0.333398      0.167811       0.041357  1.000000  0.042374\n",
            "stroke         0.232331      0.142515       0.137938  0.042374  1.000000\n"
          ]
        }
      ]
    },
    {
      "cell_type": "markdown",
      "source": [
        "## Przykładowa predykcja na nowych danych"
      ],
      "metadata": {
        "id": "fIxzJZaqwjjB"
      }
    },
    {
      "cell_type": "code",
      "source": [
        "new_data = pd.DataFrame([['Female', 23, 0, 0, 'No', 'Private', 'Rural', 17.2, 'smokes']],\n",
        "                        columns=['gender', 'age', 'hypertension', 'heart_disease', 'ever_married', 'work_type', 'Residence_type', 'bmi', 'smoking_status'])\n",
        "\n",
        "encoded = transformer.transform(new_data)\n",
        "predicted = model.predict(encoded)\n",
        "print(f\"Predicted: {'Stroke' if predicted.round() >= 1 else 'No stroke'}\")"
      ],
      "metadata": {
        "colab": {
          "base_uri": "https://localhost:8080/"
        },
        "id": "BTBFmuW5xh80",
        "outputId": "c435074a-251d-43dd-d5c1-aea19595e246"
      },
      "execution_count": 15,
      "outputs": [
        {
          "output_type": "stream",
          "name": "stdout",
          "text": [
            "Predicted: No stroke\n"
          ]
        }
      ]
    }
  ]
}