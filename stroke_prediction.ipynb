{
  "nbformat": 4,
  "nbformat_minor": 0,
  "metadata": {
    "colab": {
      "provenance": []
    },
    "kernelspec": {
      "name": "python3",
      "display_name": "Python 3"
    },
    "language_info": {
      "name": "python"
    }
  },
  "cells": [
    {
      "cell_type": "code",
      "execution_count": null,
      "metadata": {
        "id": "bLM9X4dpj7AS"
      },
      "outputs": [],
      "source": [
        "import pandas as pd\n",
        "import numpy as np\n",
        "from sklearn.model_selection import train_test_split\n",
        "from sklearn.preprocessing import StandardScaler\n",
        "import tensorflow as tf"
      ]
    },
    {
      "cell_type": "code",
      "source": [
        "# Wczytanie i przekształcenia danych\n",
        "file_path = '/content/drive/MyDrive/stroke/healthcare-dataset-stroke-data.csv'\n",
        "data = pd.read_csv(file_path)\n",
        "data = data.drop('id', axis=1).drop('avg_glucose_level', axis=1)\n",
        "\n",
        "gender_mapping = {'Other': 2, 'Male': 0, 'Female': 1}\n",
        "data['gender'] = data['gender'].map(gender_mapping)\n",
        "\n",
        "married_mapping = {'No': 0, 'Yes': 1}\n",
        "data['ever_married'] = data['ever_married'].map(married_mapping)\n",
        "\n",
        "work_mapping = {'Never_worked': 0, 'Private': 1, 'Self-employed': 2, 'Govt_job': 3, 'children': 4}\n",
        "data['work_type'] = data['work_type'].map(work_mapping)\n",
        "\n",
        "residence_mapping = {'Rural': 0, 'Urban': 1}\n",
        "data['Residence_type'] = data['Residence_type'].map(residence_mapping)\n",
        "\n",
        "smoking_mapping = {'Unknown': 0, 'formerly smoked': 1, 'never smoked': 2, 'smokes': 3}\n",
        "data['smoking_status'] = data['smoking_status'].map(smoking_mapping)\n",
        "\n",
        "data = data.dropna()\n",
        "data = data[data[\"gender\"] != 2]\n",
        "\n",
        "X = data.drop('stroke', axis=1)\n",
        "y = data['stroke']\n",
        "\n",
        "\n",
        "# Podzial na dane testowe i treningowe\n",
        "X_train, X_test, y_train, y_test = train_test_split(X, y, test_size=0.2, random_state=42)"
      ],
      "metadata": {
        "id": "9DOVBVWEtRUW"
      },
      "execution_count": null,
      "outputs": []
    },
    {
      "cell_type": "code",
      "source": [
        "# Standaryzacja danych\n",
        "scaler = StandardScaler()\n",
        "X_train_scaled = scaler.fit_transform(X_train)\n",
        "X_test_scaled = scaler.transform(X_test)\n",
        "\n",
        "# Definicja modelu sieci neuronowej\n",
        "model = tf.keras.Sequential([\n",
        "    tf.keras.layers.Dense(64, activation='relu', input_shape=(X_train_scaled.shape[1],)),\n",
        "    tf.keras.layers.Dense(64, activation='relu'),\n",
        "    tf.keras.layers.Dense(1)\n",
        "])\n",
        "\n",
        "# Kompilacja modelu\n",
        "model.compile(optimizer='adam', loss='mse')\n",
        "# Trenowanie modelu\n",
        "model.fit(X_train_scaled, y_train, epochs=50, batch_size=8, verbose=2)"
      ],
      "metadata": {
        "colab": {
          "base_uri": "https://localhost:8080/"
        },
        "id": "4Hl_NjSXtjEu",
        "outputId": "33ae41df-2bc3-4364-e7b2-0bbb16e3ec36"
      },
      "execution_count": null,
      "outputs": [
        {
          "output_type": "stream",
          "name": "stdout",
          "text": [
            "Epoch 1/50\n",
            "491/491 - 1s - loss: 0.0435 - 1s/epoch - 3ms/step\n",
            "Epoch 2/50\n",
            "491/491 - 1s - loss: 0.0378 - 620ms/epoch - 1ms/step\n",
            "Epoch 3/50\n",
            "491/491 - 1s - loss: 0.0365 - 639ms/epoch - 1ms/step\n",
            "Epoch 4/50\n",
            "491/491 - 1s - loss: 0.0363 - 590ms/epoch - 1ms/step\n",
            "Epoch 5/50\n",
            "491/491 - 1s - loss: 0.0358 - 610ms/epoch - 1ms/step\n",
            "Epoch 6/50\n",
            "491/491 - 1s - loss: 0.0353 - 606ms/epoch - 1ms/step\n",
            "Epoch 7/50\n",
            "491/491 - 1s - loss: 0.0352 - 612ms/epoch - 1ms/step\n",
            "Epoch 8/50\n",
            "491/491 - 1s - loss: 0.0351 - 625ms/epoch - 1ms/step\n",
            "Epoch 9/50\n",
            "491/491 - 1s - loss: 0.0350 - 609ms/epoch - 1ms/step\n",
            "Epoch 10/50\n",
            "491/491 - 1s - loss: 0.0348 - 608ms/epoch - 1ms/step\n",
            "Epoch 11/50\n",
            "491/491 - 1s - loss: 0.0348 - 601ms/epoch - 1ms/step\n",
            "Epoch 12/50\n",
            "491/491 - 1s - loss: 0.0344 - 613ms/epoch - 1ms/step\n",
            "Epoch 13/50\n",
            "491/491 - 1s - loss: 0.0342 - 619ms/epoch - 1ms/step\n",
            "Epoch 14/50\n",
            "491/491 - 1s - loss: 0.0341 - 606ms/epoch - 1ms/step\n",
            "Epoch 15/50\n",
            "491/491 - 1s - loss: 0.0339 - 763ms/epoch - 2ms/step\n",
            "Epoch 16/50\n",
            "491/491 - 1s - loss: 0.0338 - 915ms/epoch - 2ms/step\n",
            "Epoch 17/50\n",
            "491/491 - 1s - loss: 0.0335 - 965ms/epoch - 2ms/step\n",
            "Epoch 18/50\n",
            "491/491 - 1s - loss: 0.0332 - 1s/epoch - 2ms/step\n",
            "Epoch 19/50\n",
            "491/491 - 1s - loss: 0.0332 - 900ms/epoch - 2ms/step\n",
            "Epoch 20/50\n",
            "491/491 - 1s - loss: 0.0329 - 615ms/epoch - 1ms/step\n",
            "Epoch 21/50\n",
            "491/491 - 1s - loss: 0.0327 - 653ms/epoch - 1ms/step\n",
            "Epoch 22/50\n",
            "491/491 - 1s - loss: 0.0326 - 613ms/epoch - 1ms/step\n",
            "Epoch 23/50\n",
            "491/491 - 1s - loss: 0.0321 - 620ms/epoch - 1ms/step\n",
            "Epoch 24/50\n",
            "491/491 - 1s - loss: 0.0322 - 644ms/epoch - 1ms/step\n",
            "Epoch 25/50\n",
            "491/491 - 1s - loss: 0.0317 - 603ms/epoch - 1ms/step\n",
            "Epoch 26/50\n",
            "491/491 - 1s - loss: 0.0312 - 607ms/epoch - 1ms/step\n",
            "Epoch 27/50\n",
            "491/491 - 1s - loss: 0.0311 - 602ms/epoch - 1ms/step\n",
            "Epoch 28/50\n",
            "491/491 - 1s - loss: 0.0310 - 614ms/epoch - 1ms/step\n",
            "Epoch 29/50\n",
            "491/491 - 1s - loss: 0.0309 - 632ms/epoch - 1ms/step\n",
            "Epoch 30/50\n",
            "491/491 - 1s - loss: 0.0304 - 617ms/epoch - 1ms/step\n",
            "Epoch 31/50\n",
            "491/491 - 1s - loss: 0.0301 - 628ms/epoch - 1ms/step\n",
            "Epoch 32/50\n",
            "491/491 - 1s - loss: 0.0297 - 607ms/epoch - 1ms/step\n",
            "Epoch 33/50\n",
            "491/491 - 1s - loss: 0.0297 - 625ms/epoch - 1ms/step\n",
            "Epoch 34/50\n",
            "491/491 - 1s - loss: 0.0295 - 631ms/epoch - 1ms/step\n",
            "Epoch 35/50\n",
            "491/491 - 1s - loss: 0.0295 - 643ms/epoch - 1ms/step\n",
            "Epoch 36/50\n",
            "491/491 - 1s - loss: 0.0287 - 932ms/epoch - 2ms/step\n",
            "Epoch 37/50\n",
            "491/491 - 1s - loss: 0.0289 - 943ms/epoch - 2ms/step\n",
            "Epoch 38/50\n",
            "491/491 - 1s - loss: 0.0286 - 883ms/epoch - 2ms/step\n",
            "Epoch 39/50\n",
            "491/491 - 1s - loss: 0.0280 - 944ms/epoch - 2ms/step\n",
            "Epoch 40/50\n",
            "491/491 - 1s - loss: 0.0283 - 757ms/epoch - 2ms/step\n",
            "Epoch 41/50\n",
            "491/491 - 1s - loss: 0.0279 - 622ms/epoch - 1ms/step\n",
            "Epoch 42/50\n",
            "491/491 - 1s - loss: 0.0279 - 616ms/epoch - 1ms/step\n",
            "Epoch 43/50\n",
            "491/491 - 1s - loss: 0.0275 - 604ms/epoch - 1ms/step\n",
            "Epoch 44/50\n",
            "491/491 - 1s - loss: 0.0271 - 627ms/epoch - 1ms/step\n",
            "Epoch 45/50\n",
            "491/491 - 1s - loss: 0.0270 - 618ms/epoch - 1ms/step\n",
            "Epoch 46/50\n",
            "491/491 - 1s - loss: 0.0266 - 607ms/epoch - 1ms/step\n",
            "Epoch 47/50\n",
            "491/491 - 1s - loss: 0.0262 - 616ms/epoch - 1ms/step\n",
            "Epoch 48/50\n",
            "491/491 - 1s - loss: 0.0262 - 610ms/epoch - 1ms/step\n",
            "Epoch 49/50\n",
            "491/491 - 1s - loss: 0.0259 - 619ms/epoch - 1ms/step\n",
            "Epoch 50/50\n",
            "491/491 - 1s - loss: 0.0255 - 636ms/epoch - 1ms/step\n"
          ]
        },
        {
          "output_type": "execute_result",
          "data": {
            "text/plain": [
              "<keras.src.callbacks.History at 0x7b2fc410a410>"
            ]
          },
          "metadata": {},
          "execution_count": 61
        }
      ]
    },
    {
      "cell_type": "code",
      "source": [
        "# Ocena modelu\n",
        "mse = model.evaluate(X_test_scaled, y_test, verbose=0)\n",
        "print(\"Mean Squared Error:\", mse)"
      ],
      "metadata": {
        "colab": {
          "base_uri": "https://localhost:8080/"
        },
        "id": "1GnqHeHLtmE0",
        "outputId": "38e70395-c3e6-497a-bc0e-b04224c6731c"
      },
      "execution_count": null,
      "outputs": [
        {
          "output_type": "stream",
          "name": "stdout",
          "text": [
            "Mean Squared Error: 0.05432045832276344\n"
          ]
        }
      ]
    },
    {
      "cell_type": "code",
      "source": [
        "# Zapisanie modelu, jeśli potrzebne\n",
        "import joblib\n",
        "joblib.dump(model, '/content/drive/MyDrive/stroke/movie_revenue_predictor.pkl')"
      ],
      "metadata": {
        "colab": {
          "base_uri": "https://localhost:8080/"
        },
        "id": "MBdFRSMuwwP4",
        "outputId": "b9eb4d08-1f03-448f-bf03-481285e0be2d"
      },
      "execution_count": null,
      "outputs": [
        {
          "output_type": "execute_result",
          "data": {
            "text/plain": [
              "['/content/drive/MyDrive/stroke/movie_revenue_predictor.pkl']"
            ]
          },
          "metadata": {},
          "execution_count": 63
        }
      ]
    },
    {
      "cell_type": "code",
      "source": [
        "# Możliwość predykcji na nowych danych (np. pojedynczych filmach)\n",
        "new_data = pd.DataFrame([[1, 23, 0, 0, 0, 1, 1, 31, 3]], columns=['gender', 'age', 'hypertension', 'heart_disease', 'ever_married', 'work_type', 'Residence_type', 'bmi', 'smoking_status'])\n",
        "predicted = 'stroke' if model.predict(new_data)[0][0] > 0.5 else 'no stroke'\n",
        "print(f'Predicted: {predicted}')"
      ],
      "metadata": {
        "colab": {
          "base_uri": "https://localhost:8080/"
        },
        "id": "BTBFmuW5xh80",
        "outputId": "e8f508db-13e6-4430-ca1d-f9275a53f415"
      },
      "execution_count": null,
      "outputs": [
        {
          "output_type": "stream",
          "name": "stdout",
          "text": [
            "1/1 [==============================] - 0s 52ms/step\n",
            "Predicted: no stroke\n"
          ]
        }
      ]
    },
    {
      "cell_type": "code",
      "source": [
        "# z gotowego modelu\n",
        "import pandas as pd\n",
        "import joblib\n",
        "\n",
        "model = joblib.load('/content/drive/MyDrive/stroke/movie_revenue_predictor.pkl')\n",
        "\n",
        "new_data = pd.DataFrame([[1, 23, 0, 0, 0, 1, 1, 31, 3]], columns=['gender', 'age', 'hypertension', 'heart_disease', 'ever_married', 'work_type', 'Residence_type', 'bmi', 'smoking_status'])\n",
        "predicted = 'stroke' if model.predict(new_data)[0][0] > 0.5 else 'no stroke'\n",
        "print(f'Predicted: {predicted}')"
      ],
      "metadata": {
        "colab": {
          "base_uri": "https://localhost:8080/"
        },
        "id": "t5XJUFjgz6Co",
        "outputId": "5fe62b9d-6210-4471-ee63-c95bfcfd466f"
      },
      "execution_count": null,
      "outputs": [
        {
          "output_type": "stream",
          "name": "stdout",
          "text": [
            "1/1 [==============================] - 0s 53ms/step\n",
            "Predicted: no stroke\n"
          ]
        }
      ]
    },
    {
      "cell_type": "code",
      "source": [
        "# Export danych\n",
        "print(data.info())\n",
        "test = data.drop('stroke', axis=1)\n",
        "\n",
        "data['training_score'] = model.predict(test)\n",
        "\n",
        "data['training_score'] = (data['training_score']-data['training_score'].min())/(data['training_score'].max()-data['training_score'].min())\n",
        "data['training_score'] = round(data['training_score'])\n",
        "data['training_score'] = data['training_score'].astype(int)\n",
        "\n",
        "\n",
        "gender_mapping = {0: 'Male', 1: 'Female'}\n",
        "data['gender'] = data['gender'].map(gender_mapping)\n",
        "\n",
        "data[data[\"age\"] < 1][\"age\"] = 0\n",
        "\n",
        "hypertension_mapping = {0: 'No', 1: 'Yes'}\n",
        "data['hypertension'] = data['hypertension'].map(hypertension_mapping)\n",
        "\n",
        "heart_mapping = {0: 'No', 1: 'Yes'}\n",
        "data['heart_disease'] = data['heart_disease'].map(heart_mapping)\n",
        "\n",
        "married_mapping = {0: 'No', 1: 'Yes'}\n",
        "data['ever_married'] = data['ever_married'].map(married_mapping)\n",
        "\n",
        "work_mapping = {0: 'Never_worked', 1: 'Private', 2: 'Self-employed', 3: 'Govt_job', 4: 'children'}\n",
        "data['work_type'] = data['work_type'].map(work_mapping)\n",
        "\n",
        "residence_mapping = {0: 'Rural', 1: 'Urban'}\n",
        "data['Residence_type'] = data['Residence_type'].map(residence_mapping)\n",
        "\n",
        "smoking_mapping = {0: 'Unknown', 1: 'formerly smoked', 2: 'never smoked', 3: 'smokes'}\n",
        "data['smoking_status'] = data['smoking_status'].map(smoking_mapping)\n",
        "\n",
        "stroke_mapping = {0: 'No', 1: 'Yes'}\n",
        "data['stroke'] = data['stroke'].map(stroke_mapping)\n",
        "\n",
        "data.to_csv('/content/drive/MyDrive/stroke/test.csv')"
      ],
      "metadata": {
        "colab": {
          "base_uri": "https://localhost:8080/"
        },
        "id": "FEoAd1MP7gUs",
        "outputId": "829f3b37-4338-49c5-a5c4-844e38b67814"
      },
      "execution_count": null,
      "outputs": [
        {
          "output_type": "stream",
          "name": "stdout",
          "text": [
            "<class 'pandas.core.frame.DataFrame'>\n",
            "Index: 4908 entries, 0 to 5109\n",
            "Data columns (total 10 columns):\n",
            " #   Column          Non-Null Count  Dtype  \n",
            "---  ------          --------------  -----  \n",
            " 0   gender          4908 non-null   int64  \n",
            " 1   age             4908 non-null   float64\n",
            " 2   hypertension    4908 non-null   int64  \n",
            " 3   heart_disease   4908 non-null   int64  \n",
            " 4   ever_married    4908 non-null   int64  \n",
            " 5   work_type       4908 non-null   int64  \n",
            " 6   Residence_type  4908 non-null   int64  \n",
            " 7   bmi             4908 non-null   float64\n",
            " 8   smoking_status  4908 non-null   int64  \n",
            " 9   stroke          4908 non-null   int64  \n",
            "dtypes: float64(2), int64(8)\n",
            "memory usage: 421.8 KB\n",
            "None\n",
            "154/154 [==============================] - 0s 1ms/step\n"
          ]
        },
        {
          "output_type": "stream",
          "name": "stderr",
          "text": [
            "<ipython-input-66-2121f0f89f04>:16: SettingWithCopyWarning: \n",
            "A value is trying to be set on a copy of a slice from a DataFrame.\n",
            "Try using .loc[row_indexer,col_indexer] = value instead\n",
            "\n",
            "See the caveats in the documentation: https://pandas.pydata.org/pandas-docs/stable/user_guide/indexing.html#returning-a-view-versus-a-copy\n",
            "  data[data[\"age\"] < 1][\"age\"] = 0\n"
          ]
        }
      ]
    }
  ]
}