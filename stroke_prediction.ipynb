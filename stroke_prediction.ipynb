{
  "nbformat": 4,
  "nbformat_minor": 0,
  "metadata": {
    "colab": {
      "provenance": []
    },
    "kernelspec": {
      "name": "python3",
      "display_name": "Python 3"
    },
    "language_info": {
      "name": "python"
    }
  },
  "cells": [
    {
      "cell_type": "markdown",
      "source": [
        "# Aplikacja internetowa do przewidywania czy pacjent może doznać udaru\n",
        "\n",
        "### Opis\n",
        "\n",
        "Według Światowej Organizacji Zdrowia (WHO) udar jest drugą najczęstszą przyczyną śmierci na świecie i odpowiada za około 11% wszystkich zgonów.\n",
        "\n",
        "Ta aplikacja służy do przewidywania, czy pacjent może doznać udaru na podstawie parametrów wejściowych, takich jak płeć, wiek, wybrane choroby i palenie tytoniu.\n",
        "\n",
        "### Cel\n",
        "\n",
        "Celem projektu było zidentyfikowanie czynników ryzyka wpływających na ryzyko udaru.\n",
        "\n",
        "### Wyniki\n",
        "\n",
        "Zaobserwowano, że istotny wpływ na ryzyko udaru mają choroby takie jak nadciśnienie lub choroby serca. Ponad to zauważalnie większe ryzyko udaru występuje wśród osób samozatrudnionych.\n",
        "\n",
        "### Dane\n",
        "Dane pochodzą ze datasetu [Stroke Prediction Dataset](https://www.kaggle.com/datasets/fedesoriano/stroke-prediction-dataset)\n",
        "\n",
        "\n",
        "\n"
      ],
      "metadata": {
        "id": "4cxNTpx0rldo"
      }
    },
    {
      "cell_type": "markdown",
      "source": [
        "## Import potrzebnych bibliotek"
      ],
      "metadata": {
        "id": "SKVfjA2dvEsr"
      }
    },
    {
      "cell_type": "code",
      "execution_count": 126,
      "metadata": {
        "id": "bLM9X4dpj7AS"
      },
      "outputs": [],
      "source": [
        "import pandas as pd\n",
        "import numpy as np\n",
        "from sklearn.model_selection import train_test_split\n",
        "from sklearn.preprocessing import StandardScaler\n",
        "import tensorflow as tf"
      ]
    },
    {
      "cell_type": "markdown",
      "source": [
        "## Wczytanie i przekształcenia danych"
      ],
      "metadata": {
        "id": "GfaQS6DnvLBz"
      }
    },
    {
      "cell_type": "code",
      "source": [
        "from google.colab import drive\n",
        "drive.mount('/content/drive')\n",
        "file_path = '/content/drive/MyDrive/stroke/healthcare-dataset-stroke-data.csv'\n",
        "data = pd.read_csv(file_path)\n",
        "data = data.drop('id', axis=1).drop('avg_glucose_level', axis=1)"
      ],
      "metadata": {
        "id": "9DOVBVWEtRUW",
        "colab": {
          "base_uri": "https://localhost:8080/"
        },
        "outputId": "66a93d41-bfe2-4f4a-b184-8c5f736cde31"
      },
      "execution_count": 127,
      "outputs": [
        {
          "output_type": "stream",
          "name": "stdout",
          "text": [
            "Drive already mounted at /content/drive; to attempt to forcibly remount, call drive.mount(\"/content/drive\", force_remount=True).\n"
          ]
        }
      ]
    },
    {
      "cell_type": "markdown",
      "source": [
        "### Eksploracyjna analiza danych"
      ],
      "metadata": {
        "id": "EBkBAMsdx0Ak"
      }
    },
    {
      "cell_type": "code",
      "source": [
        "print(\"Shape\")\n",
        "print(data.shape)\n",
        "print(\"First 10\")\n",
        "print(data.head(10))\n",
        "print(\"Types\")\n",
        "print(data.dtypes)\n",
        "print(\"Description\")\n",
        "print(data.describe())\n",
        "print(\"Nulls\")\n",
        "print(data.isnull().sum())"
      ],
      "metadata": {
        "colab": {
          "base_uri": "https://localhost:8080/"
        },
        "id": "pXoAhnoxx29v",
        "outputId": "687655de-d061-470a-e829-541c9091561a"
      },
      "execution_count": 128,
      "outputs": [
        {
          "output_type": "stream",
          "name": "stdout",
          "text": [
            "Shape\n",
            "(5110, 10)\n",
            "First 10\n",
            "   gender   age  hypertension  heart_disease ever_married      work_type  \\\n",
            "0    Male  67.0             0              1          Yes        Private   \n",
            "1  Female  61.0             0              0          Yes  Self-employed   \n",
            "2    Male  80.0             0              1          Yes        Private   \n",
            "3  Female  49.0             0              0          Yes        Private   \n",
            "4  Female  79.0             1              0          Yes  Self-employed   \n",
            "5    Male  81.0             0              0          Yes        Private   \n",
            "6    Male  74.0             1              1          Yes        Private   \n",
            "7  Female  69.0             0              0           No        Private   \n",
            "8  Female  59.0             0              0          Yes        Private   \n",
            "9  Female  78.0             0              0          Yes        Private   \n",
            "\n",
            "  Residence_type   bmi   smoking_status  stroke  \n",
            "0          Urban  36.6  formerly smoked       1  \n",
            "1          Rural   NaN     never smoked       1  \n",
            "2          Rural  32.5     never smoked       1  \n",
            "3          Urban  34.4           smokes       1  \n",
            "4          Rural  24.0     never smoked       1  \n",
            "5          Urban  29.0  formerly smoked       1  \n",
            "6          Rural  27.4     never smoked       1  \n",
            "7          Urban  22.8     never smoked       1  \n",
            "8          Rural   NaN          Unknown       1  \n",
            "9          Urban  24.2          Unknown       1  \n",
            "Types\n",
            "gender             object\n",
            "age               float64\n",
            "hypertension        int64\n",
            "heart_disease       int64\n",
            "ever_married       object\n",
            "work_type          object\n",
            "Residence_type     object\n",
            "bmi               float64\n",
            "smoking_status     object\n",
            "stroke              int64\n",
            "dtype: object\n",
            "Description\n",
            "               age  hypertension  heart_disease          bmi       stroke\n",
            "count  5110.000000   5110.000000    5110.000000  4909.000000  5110.000000\n",
            "mean     43.226614      0.097456       0.054012    28.893237     0.048728\n",
            "std      22.612647      0.296607       0.226063     7.854067     0.215320\n",
            "min       0.080000      0.000000       0.000000    10.300000     0.000000\n",
            "25%      25.000000      0.000000       0.000000    23.500000     0.000000\n",
            "50%      45.000000      0.000000       0.000000    28.100000     0.000000\n",
            "75%      61.000000      0.000000       0.000000    33.100000     0.000000\n",
            "max      82.000000      1.000000       1.000000    97.600000     1.000000\n",
            "Nulls\n",
            "gender              0\n",
            "age                 0\n",
            "hypertension        0\n",
            "heart_disease       0\n",
            "ever_married        0\n",
            "work_type           0\n",
            "Residence_type      0\n",
            "bmi               201\n",
            "smoking_status      0\n",
            "stroke              0\n",
            "dtype: int64\n"
          ]
        }
      ]
    },
    {
      "cell_type": "markdown",
      "source": [
        "## Mapowanie wartości tekstowych na liczbowe"
      ],
      "metadata": {
        "id": "P8Dd7Evxv2vL"
      }
    },
    {
      "cell_type": "code",
      "source": [
        "gender_mapping = {'Other': 2, 'Male': 0, 'Female': 1}\n",
        "data['gender'] = data['gender'].map(gender_mapping)\n",
        "\n",
        "married_mapping = {'No': 0, 'Yes': 1}\n",
        "data['ever_married'] = data['ever_married'].map(married_mapping)\n",
        "\n",
        "work_mapping = {'Never_worked': 0, 'Private': 1, 'Self-employed': 2, 'Govt_job': 3, 'children': 4}\n",
        "data['work_type'] = data['work_type'].map(work_mapping)\n",
        "\n",
        "residence_mapping = {'Rural': 0, 'Urban': 1}\n",
        "data['Residence_type'] = data['Residence_type'].map(residence_mapping)\n",
        "\n",
        "smoking_mapping = {'Unknown': 3, 'formerly smoked': 0, 'never smoked': 1, 'smokes': 2}\n",
        "data['smoking_status'] = data['smoking_status'].map(smoking_mapping)"
      ],
      "metadata": {
        "id": "smRDEcn3v7GJ"
      },
      "execution_count": 129,
      "outputs": []
    },
    {
      "cell_type": "markdown",
      "source": [
        "## Usuwanie niechcianych wartości"
      ],
      "metadata": {
        "id": "t2WSL_nOv_Kz"
      }
    },
    {
      "cell_type": "code",
      "source": [
        "data = data.dropna()\n",
        "data = data[data[\"gender\"] != 2]\n",
        "data = data[data[\"smoking_status\"] != 3]"
      ],
      "metadata": {
        "id": "8sQ5yDA_wCtZ"
      },
      "execution_count": 130,
      "outputs": []
    },
    {
      "cell_type": "markdown",
      "source": [
        "### Eksport danych"
      ],
      "metadata": {
        "id": "k_atcwd2lu8i"
      }
    },
    {
      "cell_type": "code",
      "source": [
        "data.to_csv('/content/drive/MyDrive/stroke/cleanup.csv')"
      ],
      "metadata": {
        "id": "-WEyd4XvltkU"
      },
      "execution_count": 131,
      "outputs": []
    },
    {
      "cell_type": "code",
      "source": [
        "nd1 = data[data[\"stroke\"] == 1]\n",
        "nd1 = nd1[nd1[\"gender\"] == 0]\n",
        "nd2 = data[data[\"stroke\"] == 1]\n",
        "print(len(nd1)/len(nd2))"
      ],
      "metadata": {
        "colab": {
          "base_uri": "https://localhost:8080/"
        },
        "id": "6_olLQLMkY69",
        "outputId": "f78d4831-abaf-4e2a-a119-43d7848c38fb"
      },
      "execution_count": 125,
      "outputs": [
        {
          "output_type": "stream",
          "name": "stdout",
          "text": [
            "0.4166666666666667\n"
          ]
        }
      ]
    },
    {
      "cell_type": "markdown",
      "source": [
        "## Podzial na dane testowe i treningowe"
      ],
      "metadata": {
        "id": "Shsot3U3wEAu"
      }
    },
    {
      "cell_type": "code",
      "source": [
        "X = data.drop('stroke', axis=1)\n",
        "y = data['stroke']\n",
        "\n",
        "X_train, X_test, y_train, y_test = train_test_split(X, y, test_size=0.2, random_state=42)"
      ],
      "metadata": {
        "id": "OPDcsjuawFX5"
      },
      "execution_count": null,
      "outputs": []
    },
    {
      "cell_type": "markdown",
      "source": [
        "## Standaryzacja danych"
      ],
      "metadata": {
        "id": "oDV-CFBXwHv9"
      }
    },
    {
      "cell_type": "code",
      "source": [
        "scaler = StandardScaler()\n",
        "X_train_scaled = scaler.fit_transform(X_train)\n",
        "X_test_scaled = scaler.transform(X_test)"
      ],
      "metadata": {
        "id": "4Hl_NjSXtjEu"
      },
      "execution_count": null,
      "outputs": []
    },
    {
      "cell_type": "markdown",
      "source": [
        "## Definicja modelu sieci neuronowej\n",
        "\n",
        "---\n",
        "\n"
      ],
      "metadata": {
        "id": "hrJfzNHCwK85"
      }
    },
    {
      "cell_type": "code",
      "source": [
        "model = tf.keras.Sequential([\n",
        "    tf.keras.layers.Dense(64, activation='relu', input_shape=(X_train_scaled.shape[1],)),\n",
        "    tf.keras.layers.Dense(64, activation='relu'),\n",
        "    tf.keras.layers.Dense(1)\n",
        "])"
      ],
      "metadata": {
        "id": "hmFR4wAIwTok"
      },
      "execution_count": null,
      "outputs": []
    },
    {
      "cell_type": "markdown",
      "source": [
        "## Kompilacja modelu"
      ],
      "metadata": {
        "id": "Px3M2We6wXAP"
      }
    },
    {
      "cell_type": "code",
      "source": [
        "model.compile(optimizer='adam', loss='mse')"
      ],
      "metadata": {
        "id": "PCkE4PrjwVSi"
      },
      "execution_count": null,
      "outputs": []
    },
    {
      "cell_type": "markdown",
      "source": [
        "## Trenowanie modelu"
      ],
      "metadata": {
        "id": "TM3tp46owaf2"
      }
    },
    {
      "cell_type": "code",
      "source": [
        "model.fit(X_train_scaled, y_train, epochs=50, batch_size=8, verbose=2)"
      ],
      "metadata": {
        "id": "kDVeD7zrwWW8",
        "colab": {
          "base_uri": "https://localhost:8080/"
        },
        "outputId": "c575148d-9d18-4a76-d3f8-2e5d929db982"
      },
      "execution_count": null,
      "outputs": [
        {
          "output_type": "stream",
          "name": "stdout",
          "text": [
            "Epoch 1/50\n",
            "343/343 - 1s - loss: 0.0530 - 1s/epoch - 4ms/step\n",
            "Epoch 2/50\n",
            "343/343 - 1s - loss: 0.0464 - 516ms/epoch - 2ms/step\n",
            "Epoch 3/50\n",
            "343/343 - 1s - loss: 0.0454 - 524ms/epoch - 2ms/step\n",
            "Epoch 4/50\n",
            "343/343 - 1s - loss: 0.0446 - 507ms/epoch - 1ms/step\n",
            "Epoch 5/50\n",
            "343/343 - 1s - loss: 0.0430 - 518ms/epoch - 2ms/step\n",
            "Epoch 6/50\n",
            "343/343 - 1s - loss: 0.0425 - 640ms/epoch - 2ms/step\n",
            "Epoch 7/50\n",
            "343/343 - 1s - loss: 0.0419 - 746ms/epoch - 2ms/step\n",
            "Epoch 8/50\n",
            "343/343 - 1s - loss: 0.0418 - 793ms/epoch - 2ms/step\n",
            "Epoch 9/50\n",
            "343/343 - 1s - loss: 0.0412 - 790ms/epoch - 2ms/step\n",
            "Epoch 10/50\n",
            "343/343 - 1s - loss: 0.0410 - 761ms/epoch - 2ms/step\n",
            "Epoch 11/50\n",
            "343/343 - 1s - loss: 0.0405 - 1s/epoch - 4ms/step\n",
            "Epoch 12/50\n",
            "343/343 - 1s - loss: 0.0400 - 1s/epoch - 3ms/step\n",
            "Epoch 13/50\n",
            "343/343 - 1s - loss: 0.0397 - 1s/epoch - 4ms/step\n",
            "Epoch 14/50\n",
            "343/343 - 1s - loss: 0.0390 - 982ms/epoch - 3ms/step\n",
            "Epoch 15/50\n",
            "343/343 - 1s - loss: 0.0395 - 848ms/epoch - 2ms/step\n",
            "Epoch 16/50\n",
            "343/343 - 1s - loss: 0.0390 - 865ms/epoch - 3ms/step\n",
            "Epoch 17/50\n",
            "343/343 - 1s - loss: 0.0376 - 873ms/epoch - 3ms/step\n",
            "Epoch 18/50\n",
            "343/343 - 1s - loss: 0.0385 - 1s/epoch - 3ms/step\n",
            "Epoch 19/50\n",
            "343/343 - 1s - loss: 0.0380 - 896ms/epoch - 3ms/step\n",
            "Epoch 20/50\n",
            "343/343 - 1s - loss: 0.0375 - 824ms/epoch - 2ms/step\n",
            "Epoch 21/50\n",
            "343/343 - 1s - loss: 0.0372 - 825ms/epoch - 2ms/step\n",
            "Epoch 22/50\n",
            "343/343 - 1s - loss: 0.0367 - 1s/epoch - 4ms/step\n",
            "Epoch 23/50\n",
            "343/343 - 2s - loss: 0.0360 - 2s/epoch - 4ms/step\n",
            "Epoch 24/50\n",
            "343/343 - 1s - loss: 0.0361 - 1s/epoch - 4ms/step\n",
            "Epoch 25/50\n",
            "343/343 - 2s - loss: 0.0355 - 2s/epoch - 5ms/step\n",
            "Epoch 26/50\n",
            "343/343 - 1s - loss: 0.0351 - 940ms/epoch - 3ms/step\n",
            "Epoch 27/50\n",
            "343/343 - 1s - loss: 0.0346 - 874ms/epoch - 3ms/step\n",
            "Epoch 28/50\n",
            "343/343 - 1s - loss: 0.0345 - 1s/epoch - 3ms/step\n",
            "Epoch 29/50\n",
            "343/343 - 1s - loss: 0.0339 - 981ms/epoch - 3ms/step\n",
            "Epoch 30/50\n",
            "343/343 - 1s - loss: 0.0338 - 859ms/epoch - 3ms/step\n",
            "Epoch 31/50\n",
            "343/343 - 1s - loss: 0.0334 - 893ms/epoch - 3ms/step\n",
            "Epoch 32/50\n",
            "343/343 - 1s - loss: 0.0330 - 935ms/epoch - 3ms/step\n",
            "Epoch 33/50\n",
            "343/343 - 1s - loss: 0.0328 - 926ms/epoch - 3ms/step\n",
            "Epoch 34/50\n",
            "343/343 - 1s - loss: 0.0323 - 840ms/epoch - 2ms/step\n",
            "Epoch 35/50\n",
            "343/343 - 1s - loss: 0.0316 - 892ms/epoch - 3ms/step\n",
            "Epoch 36/50\n",
            "343/343 - 1s - loss: 0.0324 - 1s/epoch - 3ms/step\n",
            "Epoch 37/50\n",
            "343/343 - 2s - loss: 0.0315 - 2s/epoch - 5ms/step\n",
            "Epoch 38/50\n",
            "343/343 - 1s - loss: 0.0317 - 1s/epoch - 4ms/step\n",
            "Epoch 39/50\n",
            "343/343 - 2s - loss: 0.0310 - 2s/epoch - 4ms/step\n",
            "Epoch 40/50\n",
            "343/343 - 1s - loss: 0.0309 - 1s/epoch - 3ms/step\n",
            "Epoch 41/50\n",
            "343/343 - 1s - loss: 0.0303 - 843ms/epoch - 2ms/step\n",
            "Epoch 42/50\n",
            "343/343 - 1s - loss: 0.0304 - 893ms/epoch - 3ms/step\n",
            "Epoch 43/50\n",
            "343/343 - 1s - loss: 0.0300 - 630ms/epoch - 2ms/step\n",
            "Epoch 44/50\n",
            "343/343 - 0s - loss: 0.0294 - 496ms/epoch - 1ms/step\n",
            "Epoch 45/50\n",
            "343/343 - 1s - loss: 0.0298 - 509ms/epoch - 1ms/step\n",
            "Epoch 46/50\n",
            "343/343 - 0s - loss: 0.0304 - 500ms/epoch - 1ms/step\n",
            "Epoch 47/50\n",
            "343/343 - 1s - loss: 0.0291 - 509ms/epoch - 1ms/step\n",
            "Epoch 48/50\n",
            "343/343 - 0s - loss: 0.0289 - 490ms/epoch - 1ms/step\n",
            "Epoch 49/50\n",
            "343/343 - 1s - loss: 0.0291 - 516ms/epoch - 2ms/step\n",
            "Epoch 50/50\n",
            "343/343 - 1s - loss: 0.0286 - 503ms/epoch - 1ms/step\n"
          ]
        },
        {
          "output_type": "execute_result",
          "data": {
            "text/plain": [
              "<keras.src.callbacks.History at 0x7ba30a021660>"
            ]
          },
          "metadata": {},
          "execution_count": 19
        }
      ]
    },
    {
      "cell_type": "markdown",
      "source": [
        "## Ocena modelu"
      ],
      "metadata": {
        "id": "cB1m3LNtwd03"
      }
    },
    {
      "cell_type": "code",
      "source": [
        "mse = model.evaluate(X_test_scaled, y_test, verbose=0)\n",
        "print(\"Mean Squared Error:\", mse)"
      ],
      "metadata": {
        "colab": {
          "base_uri": "https://localhost:8080/"
        },
        "id": "1GnqHeHLtmE0",
        "outputId": "c559530c-6879-4c48-d9fb-d37db8ec789e"
      },
      "execution_count": null,
      "outputs": [
        {
          "output_type": "stream",
          "name": "stdout",
          "text": [
            "Mean Squared Error: 0.07942944765090942\n"
          ]
        }
      ]
    },
    {
      "cell_type": "markdown",
      "source": [
        "## Przykładowa predykcja na nowych danych"
      ],
      "metadata": {
        "id": "fIxzJZaqwjjB"
      }
    },
    {
      "cell_type": "code",
      "source": [
        "new_data = pd.DataFrame([[1, 23, 0, 0, 0, 1, 1, 31, 3]], columns=['gender', 'age', 'hypertension', 'heart_disease', 'ever_married', 'work_type', 'Residence_type', 'bmi', 'smoking_status'])\n",
        "predicted = 'stroke' if model.predict(new_data)[0][0] > 0.5 else 'no stroke'\n",
        "print(f'Predicted: {predicted}')"
      ],
      "metadata": {
        "colab": {
          "base_uri": "https://localhost:8080/"
        },
        "id": "BTBFmuW5xh80",
        "outputId": "49193cb4-36df-4b8c-e825-3fc5a36b64a7"
      },
      "execution_count": null,
      "outputs": [
        {
          "output_type": "stream",
          "name": "stdout",
          "text": [
            "1/1 [==============================] - 0s 100ms/step\n",
            "Predicted: stroke\n"
          ]
        }
      ]
    },
    {
      "cell_type": "markdown",
      "source": [
        "## Export danych"
      ],
      "metadata": {
        "id": "PL8nDZegwsUH"
      }
    },
    {
      "cell_type": "code",
      "source": [],
      "metadata": {
        "colab": {
          "base_uri": "https://localhost:8080/"
        },
        "id": "T-bI2i6iEa2e",
        "outputId": "91376839-81ab-4fd5-dea8-57f491abacc8"
      },
      "execution_count": null,
      "outputs": [
        {
          "output_type": "stream",
          "name": "stdout",
          "text": [
            "0         Male\n",
            "2         Male\n",
            "3       Female\n",
            "4       Female\n",
            "5         Male\n",
            "         ...  \n",
            "5100      Male\n",
            "5102    Female\n",
            "5106    Female\n",
            "5107    Female\n",
            "5108      Male\n",
            "Name: gender, Length: 3425, dtype: object\n"
          ]
        }
      ]
    },
    {
      "cell_type": "code",
      "source": [
        "print(data.info())\n",
        "test = data.drop('stroke', axis=1)\n",
        "\n",
        "data['training_score'] = model.predict(test)\n",
        "\n",
        "data['training_score'] = (data['training_score']-data['training_score'].min())/(data['training_score'].max()-data['training_score'].min())\n",
        "data['training_score'] = round(data['training_score'])\n",
        "data['training_score'] = data['training_score'].astype(int)\n",
        "\n",
        "\n",
        "gender_mapping = {0: 'Male', 1: 'Female'}\n",
        "data['gender'] = data['gender'].map(gender_mapping)\n",
        "\n",
        "data[data[\"age\"] < 1][\"age\"] = 0\n",
        "\n",
        "hypertension_mapping = {0: 'No', 1: 'Yes'}\n",
        "data['hypertension'] = data['hypertension'].map(hypertension_mapping)\n",
        "\n",
        "heart_mapping = {0: 'No', 1: 'Yes'}\n",
        "data['heart_disease'] = data['heart_disease'].map(heart_mapping)\n",
        "\n",
        "married_mapping = {0: 'No', 1: 'Yes'}\n",
        "data['ever_married'] = data['ever_married'].map(married_mapping)\n",
        "\n",
        "work_mapping = {0: 'Never_worked', 1: 'Private', 2: 'Self-employed', 3: 'Govt_job', 4: 'children'}\n",
        "data['work_type'] = data['work_type'].map(work_mapping)\n",
        "\n",
        "residence_mapping = {0: 'Rural', 1: 'Urban'}\n",
        "data['Residence_type'] = data['Residence_type'].map(residence_mapping)\n",
        "\n",
        "smoking_mapping = {0: 'Unknown', 1: 'formerly smoked', 2: 'never smoked', 3: 'smokes'}\n",
        "data['smoking_status'] = data['smoking_status'].map(smoking_mapping)\n",
        "\n",
        "stroke_mapping = {0: 'No', 1: 'Yes'}\n",
        "data['stroke'] = data['stroke'].map(stroke_mapping)\n",
        "\n",
        "data.to_csv('/content/drive/MyDrive/stroke/result.csv')"
      ],
      "metadata": {
        "colab": {
          "base_uri": "https://localhost:8080/"
        },
        "id": "FEoAd1MP7gUs",
        "outputId": "86fa6b83-35ae-4f69-d265-330ef9f81084"
      },
      "execution_count": null,
      "outputs": [
        {
          "output_type": "stream",
          "name": "stdout",
          "text": [
            "<class 'pandas.core.frame.DataFrame'>\n",
            "Index: 3425 entries, 0 to 5108\n",
            "Data columns (total 10 columns):\n",
            " #   Column          Non-Null Count  Dtype  \n",
            "---  ------          --------------  -----  \n",
            " 0   gender          3425 non-null   int64  \n",
            " 1   age             3425 non-null   float64\n",
            " 2   hypertension    3425 non-null   int64  \n",
            " 3   heart_disease   3425 non-null   int64  \n",
            " 4   ever_married    3425 non-null   int64  \n",
            " 5   work_type       3425 non-null   int64  \n",
            " 6   Residence_type  3425 non-null   int64  \n",
            " 7   bmi             3425 non-null   float64\n",
            " 8   smoking_status  3425 non-null   int64  \n",
            " 9   stroke          3425 non-null   int64  \n",
            "dtypes: float64(2), int64(8)\n",
            "memory usage: 294.3 KB\n",
            "None\n",
            "108/108 [==============================] - 0s 1ms/step\n"
          ]
        }
      ]
    }
  ]
}